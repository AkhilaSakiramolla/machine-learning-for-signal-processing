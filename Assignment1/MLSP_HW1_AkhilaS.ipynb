{
 "cells": [
  {
   "cell_type": "markdown",
   "metadata": {
    "id": "9xcFhZwgxwM0"
   },
   "source": [
    "# SP22: Machine Learning for Signal Processing - Assignment 1"
   ]
  },
  {
   "cell_type": "markdown",
   "metadata": {
    "id": "lQcndvKPx_8O"
   },
   "source": [
    "## Name : Akhila Sakiramolla (asakiram@iu.edu)\n",
    "## UID : 2000886005"
   ]
  },
  {
   "cell_type": "markdown",
   "metadata": {
    "id": "oXZe0PuzyCbh"
   },
   "source": [
    "## Importing required libraries"
   ]
  },
  {
   "cell_type": "code",
   "execution_count": 230,
   "metadata": {
    "id": "Z39nK8XQrpkJ"
   },
   "outputs": [],
   "source": [
    "import scipy.io\n",
    "import numpy as np\n",
    "import math \n",
    "from numpy import linalg as LA\n",
    "import matplotlib.pyplot as plt\n",
    "from numpy.random import normal\n",
    "import matplotlib.image as mpimg\n",
    "# To execute a cell line by line\n",
    "from IPython.core.interactiveshell import InteractiveShell\n",
    "InteractiveShell.ast_node_interactivity = \"all\""
   ]
  },
  {
   "cell_type": "markdown",
   "metadata": {
    "id": "mPLy5CBGyMzl"
   },
   "source": [
    "## P1: MLE for uniform distribution"
   ]
  },
  {
   "cell_type": "markdown",
   "metadata": {
    "id": "cte09M5RoLDd"
   },
   "source": [
    "The given scores are : [92, 95.8, 91.3, 94.1, 90.9]\n",
    "\n",
    "The probability density function is given by :\n",
    "\n",
    "![image.png](data:image/png;base64,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)"
   ]
  },
  {
   "cell_type": "markdown",
   "metadata": {
    "id": "typJS5PfobF7"
   },
   "source": [
    "The joint likelihood for the 5 variables is given by :\n",
    "\n",
    "$p = \\prod_{i = 1}^{5}\\: p(x)$\n",
    "\n",
    "$p = \\prod_{i = 1}^{5}\\: \\frac{1}{b - a}$\n",
    "\n",
    "$p = (\\frac{1}{b - a})^{5}$"
   ]
  },
  {
   "cell_type": "markdown",
   "metadata": {
    "id": "lVAuFQSAuWnw"
   },
   "source": [
    "In order to get the parameters that maximize the likelihood :\n",
    "\n",
    "$a, b = arg\\: max_{a,b} (\\frac{1}{b - a})^{5}$\n",
    "\n",
    "Applying log :\n",
    "\n",
    "$a, b = arg\\: max_{a,b}\\;  ln \\; (\\frac{1}{b - a})^{5}$"
   ]
  },
  {
   "cell_type": "markdown",
   "metadata": {
    "id": "g4csiZA0w_XR"
   },
   "source": [
    "To get the maximum values of a, b we need to find the partial derivatives of the equation wrt a, b and set it to zero.\n",
    "\n",
    "$\\frac{\\partial  ln \\; (\\frac{1}{b - a})^{5}}{\\partial a} = \\frac{5}{b-a}$\n",
    "\n",
    "This function is monotonically increaing as b > a and the value will always be greater than 0. So, a must be the minimum value of all the variables. So, a = 90.9\n",
    "\n",
    "$\\frac{\\partial  ln \\; (\\frac{1}{b - a})^{5}}{\\partial b} = - \\frac{5}{b-a}$\n",
    "\n",
    "This function is monotonically decreasing as b > a and the value will always be less than 0. So, b must be the maximum value of all the variables. So, b = 95.8\n",
    "\n",
    "a, b = (90.9, 95.8) and the range is [90.9, 95.8]"
   ]
  },
  {
   "cell_type": "markdown",
   "metadata": {
    "id": "-JkdjMSBxqgS"
   },
   "source": [
    "But it is mentioned that the bounds are multiples of 5 and not real-valued. The range we have is [90.9, 95.8] which does not satisfy this. \n",
    "\n",
    "So the new lower bound can be 90 and the upper bound can be 95. But the upper bound cannot hold the value 95.8 and the values after that. Also, since the grade is A+ there cannot be another grade for those remainig values. Therefore, the new upper bound has to be 100.\n",
    "\n",
    "The new range for A+ grade = [90, 100]"
   ]
  },
  {
   "cell_type": "markdown",
   "metadata": {
    "id": "1Shpc4oTaDRk"
   },
   "source": [
    "## P2: Central Limit Theorem"
   ]
  },
  {
   "cell_type": "code",
   "execution_count": 209,
   "metadata": {
    "colab": {
     "base_uri": "https://localhost:8080/"
    },
    "id": "XT0Q9fiwa6fe",
    "outputId": "40dab78b-5339-4814-9ec0-2cc574731fa6"
   },
   "outputs": [
    {
     "name": "stdout",
     "output_type": "stream",
     "text": [
      "Red channel shape : (3655, 6496)\n",
      "Red channel : [[174 174 174 ...  60  60  60]\n",
      " [173 173 173 ...  61  60  60]\n",
      " [173 173 173 ...  61  61  60]\n",
      " ...\n",
      " [ 35  34  32 ...  20  21  21]\n",
      " [ 36  36  34 ...  28  29  30]\n",
      " [ 36  36  34 ...  27  29  31]]\n"
     ]
    }
   ],
   "source": [
    "# Loading image data and extracting red channel\n",
    "\n",
    "img=mpimg.imread('luddy.jpg')\n",
    "img_red = img[...,0]\n",
    "print(\"Red channel shape :\",img_red.shape)\n",
    "print(\"Red channel :\",img_red)"
   ]
  },
  {
   "cell_type": "markdown",
   "metadata": {
    "id": "yuB3WRYuppPU"
   },
   "source": [
    "### 2 patches"
   ]
  },
  {
   "cell_type": "code",
   "execution_count": 210,
   "metadata": {
    "colab": {
     "base_uri": "https://localhost:8080/"
    },
    "id": "5hBpoN_AsCDw",
    "outputId": "20e4f7ff-2f0b-4d89-eede-435f94aeef9d"
   },
   "outputs": [
    {
     "name": "stdout",
     "output_type": "stream",
     "text": [
      "Patch 1 : [[175 184 179 ... 207  27 167]\n",
      " [ 86 197 235 ... 125  93 247]\n",
      " [137  56 185 ... 178  70 200]\n",
      " ...\n",
      " [158  41 132 ... 183 173 175]\n",
      " [100 142  68 ... 222 213  68]\n",
      " [ 64 200 193 ... 219 130 195]]\n",
      "Patch 2 : [[223 211 210 ... 216  82 109]\n",
      " [171 127 111 ...  33 185 162]\n",
      " [231 125 145 ... 239 132 205]\n",
      " ...\n",
      " [ 49 252 201 ...  51 118 151]\n",
      " [220  89 155 ... 171  79 251]\n",
      " [195  87 220 ...  81 141 122]]\n"
     ]
    }
   ],
   "source": [
    "# Taking two patches of size 100x100 from two random locations in the image\n",
    "\n",
    "patch2_1 = np.random.choice(img_red.ravel(),(100,100),replace=False)\n",
    "print(\"Patch 1 :\",patch2_1)\n",
    "patch2_2 = np.random.choice(img_red.ravel(),(100,100),replace=False)\n",
    "print(\"Patch 2 :\",patch2_2)"
   ]
  },
  {
   "cell_type": "code",
   "execution_count": 174,
   "metadata": {
    "colab": {
     "base_uri": "https://localhost:8080/",
     "height": 483
    },
    "id": "invlit5RqjMm",
    "outputId": "2bd8732a-38af-4885-f87c-a1eaeec0765e"
   },
   "outputs": [
    {
     "data": {
      "image/png": "[encoded data removed]",
      "text/plain": [
       "<Figure size 720x576 with 1 Axes>"
      ]
     },
     "metadata": {
      "needs_background": "light"
     },
     "output_type": "display_data"
    }
   ],
   "source": [
    "# Getting average of the two patches\n",
    "patch2_avg = np.mean(np.array([patch2_1, patch2_2]), axis=0 )\n",
    "\n",
    "# Plotting histogram of the average patch\n",
    "plt.figure(figsize=(10, 8))\n",
    "plt.hist(patch2_avg, bins = 30)\n",
    "plt.show()"
   ]
  },
  {
   "cell_type": "markdown",
   "metadata": {
    "id": "MjvblPM05Gs7"
   },
   "source": [
    "The above distribution of average patch from 2 patches is not exactly a gaussian distribution but seems like it."
   ]
  },
  {
   "cell_type": "markdown",
   "metadata": {
    "id": "GfwNZU8Npr5z"
   },
   "source": [
    "### 100 patches"
   ]
  },
  {
   "cell_type": "code",
   "execution_count": null,
   "metadata": {
    "id": "FEe3sFxc4p9k"
   },
   "outputs": [],
   "source": [
    "# Taking 100 patches of size 100x100 from random locations in the image\n",
    "\n",
    "# Intialising a random array of 100x100 to add 99 random arrays to create 100 samples and take average sample\n",
    "patch100_arr = np.int64(np.random.choice(img_red.ravel(),(100,100),replace=False))\n",
    "\n",
    "# Adding the rest of the samples\n",
    "counter = 1\n",
    "while counter < 100:\n",
    "  patch_100 = np.int64(np.random.choice(img_red.ravel(),(100,100),replace=False))\n",
    "  patch100_arr += patch_100\n",
    "  counter += 1\n",
    "\n",
    "# Getting average of the 100 samples\n",
    "patch100_avg = np.around(patch100_arr/100, decimals = 2)"
   ]
  },
  {
   "cell_type": "code",
   "execution_count": 61,
   "metadata": {
    "colab": {
     "base_uri": "https://localhost:8080/",
     "height": 483
    },
    "id": "lVG3KXmASh34",
    "outputId": "3811b6bd-d02a-40e3-a516-64e6f845fe6b"
   },
   "outputs": [
    {
     "data": {
      "image/png": "[encoded data removed]",
      "text/plain": [
       "<Figure size 720x576 with 1 Axes>"
      ]
     },
     "metadata": {
      "needs_background": "light"
     },
     "output_type": "display_data"
    }
   ],
   "source": [
    "# Plotting histogram of the average patch\n",
    "\n",
    "plt.figure(figsize=(10, 8))\n",
    "plt.hist(patch100_avg, bins = 30)\n",
    "plt.show()"
   ]
  },
  {
   "cell_type": "markdown",
   "metadata": {
    "id": "gHo832_s5Qhv"
   },
   "source": [
    "The above distribution of average patch from 100 patches is not exactly a gaussian distribution but it seems more normal than the average patch of 2 patches."
   ]
  },
  {
   "cell_type": "markdown",
   "metadata": {
    "id": "LSwyKtMXpt4Q"
   },
   "source": [
    "### 1000 patches"
   ]
  },
  {
   "cell_type": "code",
   "execution_count": 63,
   "metadata": {
    "id": "6xLSPWYpTXcJ"
   },
   "outputs": [],
   "source": [
    "# Taking 100 patches of size 100x100 from random locations in the image\n",
    "\n",
    "# Intialising a random array of 100x100 to add 999 random arrays to create 1000 samples and take average sample\n",
    "patch1000_arr = np.int64(np.random.choice(img_red.ravel(),(100,100),replace=False))\n",
    "\n",
    "# Adding the rest of the samples\n",
    "counter = 1\n",
    "while counter < 1000:\n",
    "  patch_1000 = np.int64(np.random.choice(img_red.ravel(),(100,100),replace=False))\n",
    "  patch1000_arr += patch_1000\n",
    "  counter += 1\n",
    "\n",
    "# Getting average of the 1000 samples\n",
    "patch1000_avg = np.around(patch1000_arr/1000, decimals = 2)"
   ]
  },
  {
   "cell_type": "code",
   "execution_count": 64,
   "metadata": {
    "colab": {
     "base_uri": "https://localhost:8080/",
     "height": 483
    },
    "id": "tnHGMo_3Tcxv",
    "outputId": "b93f3e9b-d5d9-4772-ded9-51291c6df253"
   },
   "outputs": [
    {
     "data": {
      "image/png": "[encoded data removed]",
      "text/plain": [
       "<Figure size 720x576 with 1 Axes>"
      ]
     },
     "metadata": {
      "needs_background": "light"
     },
     "output_type": "display_data"
    }
   ],
   "source": [
    "# Plotting histogram of the average patch\n",
    "\n",
    "plt.figure(figsize=(10, 8))\n",
    "plt.hist(patch1000_avg, bins = 30)\n",
    "plt.show()"
   ]
  },
  {
   "cell_type": "markdown",
   "metadata": {
    "id": "cFTTR8Q25Xqh"
   },
   "source": [
    "The above distribution of average patch from 1000 patches seems to be a normal distrubution but is definitely more normal than average patches from 2 and 100 patches."
   ]
  },
  {
   "cell_type": "markdown",
   "metadata": {
    "id": "4sw3U8LhuOMY"
   },
   "source": [
    "### Distribution comparison"
   ]
  },
  {
   "cell_type": "code",
   "execution_count": 200,
   "metadata": {
    "colab": {
     "base_uri": "https://localhost:8080/",
     "height": 406
    },
    "id": "emY345ptveli",
    "outputId": "c6ec42f4-1b8d-4362-9a89-c9efe7393f92"
   },
   "outputs": [
    {
     "data": {
      "text/plain": [
       "Text(0.5, 1.0, 'Distribution for 1000 patches')"
      ]
     },
     "execution_count": 200,
     "metadata": {},
     "output_type": "execute_result"
    },
    {
     "data": {
      "image/png": "[encoded data removed]",
      "text/plain": [
       "<Figure size 1080x432 with 3 Axes>"
      ]
     },
     "metadata": {
      "needs_background": "light"
     },
     "output_type": "display_data"
    }
   ],
   "source": [
    "fig, axs = plt.subplots(1, 3, sharey=True, tight_layout=True, figsize=(15,6))\n",
    "\n",
    "axs[0].hist(patch2_avg, bins = 30)\n",
    "axs[0].set_title('Distribution for 2 patches')\n",
    "axs[1].hist(patch100_avg, bins = 30)\n",
    "axs[1].set_title('Distribution for 100 patches')\n",
    "axs[2].hist(patch1000_avg, bins = 30)\n",
    "axs[2].set_title('Distribution for 1000 patches')"
   ]
  },
  {
   "cell_type": "markdown",
   "metadata": {
    "id": "gtEvBUcN5mlJ"
   },
   "source": [
    "On comparing the three distributions, I observe that the distribution with the highest number of patches is the most normally distributed compared to other samples."
   ]
  },
  {
   "cell_type": "markdown",
   "metadata": {
    "id": "XJTCZ3Z-sZF-"
   },
   "source": [
    "### Log-likelihood calculation"
   ]
  },
  {
   "cell_type": "markdown",
   "metadata": {
    "id": "KKCTUGSNMmD9"
   },
   "source": [
    "Before calculating the log likelihood for each distribution, I will first calculate the maximum likelihood estimation parameters from the ditributions, which is nothing but the sample mean and sample variance."
   ]
  },
  {
   "cell_type": "markdown",
   "metadata": {
    "id": "DXWFsohLNN6p"
   },
   "source": [
    "We get sample mean by :\n",
    "\n",
    "$\\mu = \\frac{1}{N}\\, \\sum_{i = 1}^{N}\\, x_{i}$"
   ]
  },
  {
   "cell_type": "markdown",
   "metadata": {
    "id": "jpQQvksROecS"
   },
   "source": [
    "We get sample variance by :\n",
    "\n",
    "\n",
    "$\\sigma = \\sqrt{\\frac{1}{N}\\, \\sum_{i = 1}^{N}\\, (x_{i} - \\mu )^{2}}$"
   ]
  },
  {
   "cell_type": "code",
   "execution_count": 211,
   "metadata": {
    "id": "tZMLiJUSOi8A"
   },
   "outputs": [],
   "source": [
    "# Calculating sample mean and variance of average of 2 patches\n",
    "\n",
    "patch2_mu = round(np.mean(patch2_avg),2)\n",
    "patch2_sigma = round(np.std(patch2_avg),2)"
   ]
  },
  {
   "cell_type": "code",
   "execution_count": 212,
   "metadata": {
    "id": "ZXu_UJmeOqsH"
   },
   "outputs": [],
   "source": [
    "# Calculating sample mean and variance of average of 100 patches\n",
    "\n",
    "patch100_mu = round(np.mean(patch100_avg),2)\n",
    "patch100_sigma = round(np.std(patch100_avg),2)"
   ]
  },
  {
   "cell_type": "code",
   "execution_count": 213,
   "metadata": {
    "id": "duTbhzPSOuaN"
   },
   "outputs": [],
   "source": [
    "# Calculating sample mean and variance of average of 1000 patches\n",
    "\n",
    "patch1000_mu = round(np.mean(patch1000_avg),2)\n",
    "patch1000_sigma = round(np.std(patch1000_avg),2)"
   ]
  },
  {
   "cell_type": "markdown",
   "metadata": {
    "id": "1wrmpbPYPjqO"
   },
   "source": [
    "The probability density function of a gaussian distribution is given by :\n",
    "\n",
    "$p(x_{1}\\, |\\, \\mu,\\, \\sigma) = \\frac{1}{\\sqrt{2\\pi}\\sigma }\\; exp\\left \\{ - \\frac{(x - \\mu)^{2}}{2\\sigma^{2}} \\right \\}$"
   ]
  },
  {
   "cell_type": "markdown",
   "metadata": {
    "id": "s0Zil-k7RRM2"
   },
   "source": [
    "Joint likelihood is given by :\n",
    "\n",
    "$p = \\prod_{i = 1}^{N}\\: p\\left ( x_{i}\\: |\\:  \\mu, \\sigma \\right )$"
   ]
  },
  {
   "cell_type": "markdown",
   "metadata": {
    "id": "TSVurE52WiDO"
   },
   "source": [
    "By applying log :\n",
    "\n",
    "$ln(p) = ln \\left \\{ \\prod_{i = 1}^{N}\\: p\\left ( x_{i}\\: |\\:  \\mu, \\sigma \\right ) \\right \\} = \\sum_{i=1}^{N}\\; ln\\;  p(x_{i}\\; | \\; \\mu, \\sigma)$"
   ]
  },
  {
   "cell_type": "markdown",
   "metadata": {
    "id": "PHrYQUbLXm6D"
   },
   "source": [
    "Solving this equation further to get :\n",
    "\n",
    "$ln (p) =  \\sum_{i=1}^{N}\\: ln\\: \\frac{1}{\\sqrt{2\\pi}\\sigma }\\; exp\\left \\{ - \\frac{(x - \\mu)^{2}}{2\\sigma^{2}} \\right \\}$\n",
    "\n",
    "$  = \\sum_{i=1}^{N}\\: ln(1) - ln(\\sqrt{2\\pi}) - ln(\\sigma) - \\frac{(x_{i} - \\mu)^{2}}{2\\sigma^{2}}$\n",
    "\n",
    "$  = -\\; N\\: ln(\\sqrt{2\\pi}) - N\\: ln(\\sigma) - \\sum_{i=1}^{N}\\:\\frac{(x_{i} - \\mu)^{2}}{2\\sigma^{2}}$\n",
    "\n"
   ]
  },
  {
   "cell_type": "markdown",
   "metadata": {
    "id": "b5-Kc2GVZocV"
   },
   "source": [
    "Therefore the log likelihood can be computed by :\n",
    "\n",
    "log likelihood = $-\\; N\\: ln(\\sqrt{2\\pi}) - N\\: ln(\\sigma) - \\sum_{i=1}^{N}\\:\\frac{(x_{i} - \\mu)^{2}}{2\\sigma^{2}}$"
   ]
  },
  {
   "cell_type": "code",
   "execution_count": 220,
   "metadata": {
    "id": "_x-cEnCLky1P"
   },
   "outputs": [],
   "source": [
    "# Function to compute log likelihood\n",
    "\n",
    "def logLikelihood(patch, N, mu, sigma):\n",
    "  summation = 0\n",
    "  term1 = -N*np.log(math.sqrt(math.pi*2))\n",
    "  term2 = -N*np.log(sigma)\n",
    "  for i in patch:\n",
    "    for j in i:\n",
    "      summation += ((j - mu)**2)/(2*(sigma**2))\n",
    "  log_likelihood = term1 + term2 - summation\n",
    "  return log_likelihood"
   ]
  },
  {
   "cell_type": "code",
   "execution_count": 221,
   "metadata": {
    "id": "tWKZxqlxO-2j"
   },
   "outputs": [],
   "source": [
    "N = 10000"
   ]
  },
  {
   "cell_type": "code",
   "execution_count": 205,
   "metadata": {
    "colab": {
     "base_uri": "https://localhost:8080/"
    },
    "id": "1V7mkFLFpSXF",
    "outputId": "a675f67e-4a0b-4393-aaa9-085f51345b19"
   },
   "outputs": [
    {
     "name": "stdout",
     "output_type": "stream",
     "text": [
      "Log likelihood for 2 patches : -52745.11\n"
     ]
    }
   ],
   "source": [
    "# Calculating likelihood for average patch of 2 patches\n",
    "\n",
    "patch2_log_likelihood = round(logLikelihood(patch2_avg, N, patch2_mu, patch2_sigma),2)\n",
    "print(\"Log likelihood for 2 patches :\", patch2_log_likelihood)"
   ]
  },
  {
   "cell_type": "code",
   "execution_count": 206,
   "metadata": {
    "colab": {
     "base_uri": "https://localhost:8080/"
    },
    "id": "HqhGRcPuodO0",
    "outputId": "331cb7d1-6d12-4e8e-b303-90a63eafd701"
   },
   "outputs": [
    {
     "name": "stdout",
     "output_type": "stream",
     "text": [
      "Log likelihood for 100 patches : -33189.56\n"
     ]
    }
   ],
   "source": [
    "# Calculating likelihood for average patch of 100 patches\n",
    "\n",
    "patch100_log_likelihood = round(logLikelihood(patch100_avg, N, patch100_mu, patch100_sigma),2)\n",
    "print(\"Log likelihood for 100 patches :\", patch100_log_likelihood)"
   ]
  },
  {
   "cell_type": "code",
   "execution_count": 207,
   "metadata": {
    "colab": {
     "base_uri": "https://localhost:8080/"
    },
    "id": "zYFtRFUhTkfk",
    "outputId": "0c8a2368-02cc-48ec-8dcf-b643163c80ae"
   },
   "outputs": [
    {
     "name": "stdout",
     "output_type": "stream",
     "text": [
      "Log likelihood for 1000 patches : -21696.19\n"
     ]
    }
   ],
   "source": [
    "# Calculating likelihood for average patch of 1000 patches\n",
    "\n",
    "patch1000_log_likelihood = round(logLikelihood(patch1000_avg, N, patch1000_mu, patch1000_sigma),2)\n",
    "print(\"Log likelihood for 1000 patches :\", patch1000_log_likelihood)"
   ]
  },
  {
   "cell_type": "markdown",
   "metadata": {
    "id": "rW7zDQEeRxQn"
   },
   "source": [
    "I observe that the log likelihood increases with increase in number of mean samples, which proves the Central Limit Theorem that states \"sampling distribution of the sample means approaches a normal distribution as the sample size gets larger — no matter what the shape of the population distribution\". This is also confirmed from the dsitribution plots, where the plots were observed to more normal as the number of mean samples increased."
   ]
  },
  {
   "cell_type": "code",
   "execution_count": null,
   "metadata": {
    "id": "09RCsRoDySHb"
   },
   "outputs": [],
   "source": []
  },
  {
   "cell_type": "markdown",
   "metadata": {
    "id": "5h9PUxJ-fnIV"
   },
   "source": [
    "## P3: Gradient Ascent for Eigendecomposition"
   ]
  },
  {
   "cell_type": "code",
   "execution_count": 225,
   "metadata": {
    "colab": {
     "base_uri": "https://localhost:8080/"
    },
    "id": "obpyL5I3qkwx",
    "outputId": "d5a8a7f3-919b-42c3-bf36-0fe5732d2660"
   },
   "outputs": [
    {
     "data": {
      "text/plain": [
       "array([[-0.80270267,  0.14826696, -0.73008652, ..., -0.38844022,\n",
       "        -0.04152344,  1.95023934],\n",
       "       [ 1.51626395,  1.03244736, -0.45484151, ...,  1.26987396,\n",
       "         0.45179885, -0.77529334]])"
      ]
     },
     "execution_count": 225,
     "metadata": {},
     "output_type": "execute_result"
    }
   ],
   "source": [
    "# Loading data\n",
    "\n",
    "mat = scipy.io.loadmat('X.mat')\n",
    "X = mat['X']\n",
    "X"
   ]
  },
  {
   "cell_type": "code",
   "execution_count": 266,
   "metadata": {
    "colab": {
     "base_uri": "https://localhost:8080/",
     "height": 300
    },
    "id": "h7BMqlFfroRE",
    "outputId": "e22a003b-d630-411b-ab21-aabd542930d6"
   },
   "outputs": [
    {
     "data": {
      "text/plain": [
       "<matplotlib.collections.PathCollection at 0x7f45bc14e7d0>"
      ]
     },
     "execution_count": 266,
     "metadata": {},
     "output_type": "execute_result"
    },
    {
     "data": {
      "text/plain": [
       "<Figure size 720x576 with 0 Axes>"
      ]
     },
     "execution_count": 266,
     "metadata": {},
     "output_type": "execute_result"
    },
    {
     "data": {
      "image/png": "[encoded data removed]",
      "text/plain": [
       "<Figure size 432x288 with 1 Axes>"
      ]
     },
     "metadata": {
      "needs_background": "light"
     },
     "output_type": "display_data"
    },
    {
     "data": {
      "text/plain": [
       "<Figure size 720x576 with 0 Axes>"
      ]
     },
     "metadata": {},
     "output_type": "display_data"
    }
   ],
   "source": [
    "# Plotting scatter plot to observe distribution\n",
    "\n",
    "plt.scatter(X[0], X[1])\n",
    "plt.figure(figsize=(10, 8))\n",
    "plt.show()"
   ]
  },
  {
   "cell_type": "code",
   "execution_count": 227,
   "metadata": {
    "colab": {
     "base_uri": "https://localhost:8080/"
    },
    "id": "NJ-afGUQ3_f9",
    "outputId": "dae44191-de0c-4d3c-a96a-a4931c341207"
   },
   "outputs": [
    {
     "data": {
      "text/plain": [
       "matrix([[-0.80270267,  0.14826696, -0.73008652, ..., -0.38844022,\n",
       "         -0.04152344,  1.95023934],\n",
       "        [ 1.51626395,  1.03244736, -0.45484151, ...,  1.26987396,\n",
       "          0.45179885, -0.77529334]])"
      ]
     },
     "execution_count": 227,
     "metadata": {},
     "output_type": "execute_result"
    }
   ],
   "source": [
    "# Converting the array into matrix\n",
    "\n",
    "X = np.asmatrix(X)\n",
    "X"
   ]
  },
  {
   "cell_type": "markdown",
   "metadata": {
    "id": "toOu6h8gcOyb"
   },
   "source": [
    "### First Eigenvector"
   ]
  },
  {
   "cell_type": "code",
   "execution_count": 228,
   "metadata": {
    "colab": {
     "base_uri": "https://localhost:8080/"
    },
    "id": "cYBDoO5asbW4",
    "outputId": "cca6e860-812f-4431-d9e6-5dc23424ccb0"
   },
   "outputs": [
    {
     "name": "stdout",
     "output_type": "stream",
     "text": [
      "[ 2.80314033 -1.07379961]\n",
      "[[ 2.80314033 -1.07379961]]\n"
     ]
    }
   ],
   "source": [
    "# Initialising the elements of eigenvector\n",
    "\n",
    "rand_sample = normal(loc=0, scale=1, size=2)\n",
    "print(rand_sample)\n",
    "rand_sample = np.asmatrix(rand_sample)\n",
    "print(rand_sample)"
   ]
  },
  {
   "cell_type": "code",
   "execution_count": 231,
   "metadata": {
    "colab": {
     "base_uri": "https://localhost:8080/"
    },
    "id": "bkcRnD6kufND",
    "outputId": "55271abe-4a52-4420-ea20-3af6ebb7a8c1"
   },
   "outputs": [
    {
     "name": "stdout",
     "output_type": "stream",
     "text": [
      "Normalized eigenvetorm : [[ 0.93382821 -0.35772179]]\n",
      "(1, 2)\n",
      "(2, 1)\n",
      "L2 norm of eigenvector : 1.0\n"
     ]
    }
   ],
   "source": [
    "# Normalizing the eigenvector\n",
    "\n",
    "norm = np.linalg.norm(rand_sample)\n",
    "eigen_vec = rand_sample/norm\n",
    "print(\"Normalized eigenvetorm :\", eigen_vec)\n",
    "print(eigen_vec.shape)\n",
    "eigen_vec.shape = (2,1)\n",
    "print(eigen_vec.shape)\n",
    "print(\"L2 norm of eigenvector :\",LA.norm(eigen_vec))"
   ]
  },
  {
   "cell_type": "code",
   "execution_count": 232,
   "metadata": {
    "colab": {
     "base_uri": "https://localhost:8080/"
    },
    "id": "HyKL00G6x4Qa",
    "outputId": "36080bf5-61a6-4b68-c1c0-cbb5843d9ca2"
   },
   "outputs": [
    {
     "data": {
      "text/plain": [
       "matrix([[ 0.93382821, -0.35772179]])"
      ]
     },
     "execution_count": 232,
     "metadata": {},
     "output_type": "execute_result"
    }
   ],
   "source": [
    "# Transpose of eigenvector\n",
    "\n",
    "eigen_vec_trans = np.transpose(eigen_vec)\n",
    "eigen_vec_trans"
   ]
  },
  {
   "cell_type": "code",
   "execution_count": 234,
   "metadata": {
    "id": "TuKe9hhOw8L6"
   },
   "outputs": [],
   "source": [
    "# Projection of data samples onto eigenvector\n",
    "\n",
    "Z = np.matmul(eigen_vec_trans, X)"
   ]
  },
  {
   "cell_type": "code",
   "execution_count": 235,
   "metadata": {
    "colab": {
     "base_uri": "https://localhost:8080/"
    },
    "id": "20tCzXdULw6X",
    "outputId": "9234a467-9a8a-40b3-9e85-327c678a1fd3"
   },
   "outputs": [
    {
     "name": "stdout",
     "output_type": "stream",
     "text": [
      "(2, 1000)\n",
      "(1000, 2)\n",
      "(2, 1)\n"
     ]
    }
   ],
   "source": [
    "print(X.shape)\n",
    "print(np.transpose(X).shape)\n",
    "print(eigen_vec.shape)"
   ]
  },
  {
   "cell_type": "markdown",
   "metadata": {
    "id": "KxlQ0kLzdRzS"
   },
   "source": [
    "We have the eigenvalue : $\\: \\: \\lambda^{(1)} = (w^{(1)})^{T}\\: X\\: X^{T}\\: w^{(1)}$\n",
    "\n",
    "We need to maximize this value to get the largest eigen value.\n",
    "\n",
    "$\\frac{\\partial \\lambda^{(1)}}{\\partial w^{(1)}} = \\frac{\\partial (w^{(1)})^{T}\\: X\\: X^{T}\\: w^{(1)}}{\\partial w^{(1)}} = X X^{T} w^{(1)} + X X^{T} w^{(1)} $"
   ]
  },
  {
   "cell_type": "markdown",
   "metadata": {
    "id": "Ijjyx2qEfdzv"
   },
   "source": [
    "$\\frac{\\partial \\lambda^{(1)}}{\\partial w^{(1)}} = 2\\left ( X X^{T} w^{(1)} \\right )$"
   ]
  },
  {
   "cell_type": "markdown",
   "metadata": {
    "id": "OGKGujMLhsu5"
   },
   "source": [
    "Uisng Gradient Ascent to update the parameter :\n",
    "\n",
    "$w^{(1)} = w^{(1)} + \\alpha \\: \\frac{\\partial \\lambda^{(1)}}{\\partial w^{(1)}}$\n",
    "\n",
    "$w^{(1)} = w^{(1)} + \\alpha \\: \\: 2\\left ( X X^{T} w^{(1)} \\right )$"
   ]
  },
  {
   "cell_type": "code",
   "execution_count": 236,
   "metadata": {
    "colab": {
     "base_uri": "https://localhost:8080/"
    },
    "id": "63L2sZHyPqyI",
    "outputId": "04148c77-ba30-4145-8ce9-97df02a8279e"
   },
   "outputs": [
    {
     "data": {
      "text/plain": [
       "matrix([[ 972.22077592, -684.09407217],\n",
       "        [-684.09407217,  976.7602097 ]])"
      ]
     },
     "execution_count": 236,
     "metadata": {},
     "output_type": "execute_result"
    }
   ],
   "source": [
    "alpha = 0.01\n",
    "w_updated = eigen_vec\n",
    "X_mat = np.dot(X,np.transpose(X))\n",
    "X_mat"
   ]
  },
  {
   "cell_type": "code",
   "execution_count": 237,
   "metadata": {
    "colab": {
     "base_uri": "https://localhost:8080/"
    },
    "id": "Nah6VJWJPmzL",
    "outputId": "47d3d150-9ce1-4ca7-e999-b441dc2fc17c"
   },
   "outputs": [
    {
     "name": "stdout",
     "output_type": "stream",
     "text": [
      "Updated eigenvector : [[ 0.70593278]\n",
      " [-0.70827884]]\n"
     ]
    }
   ],
   "source": [
    "# Parameter updation\n",
    "\n",
    "for i in range(500):\n",
    "  lambda_der = 2*np.dot(X_mat, w_updated)\n",
    "  change = alpha*lambda_der\n",
    "  w_updated += change\n",
    "  # Normalizing the eigenvector\n",
    "  norm = np.linalg.norm(w_updated)\n",
    "  w_updated = w_updated/norm\n",
    "\n",
    "print(\"Updated eigenvector :\", w_updated)"
   ]
  },
  {
   "cell_type": "markdown",
   "metadata": {
    "id": "IRTomdvzj7Z9"
   },
   "source": [
    "![image.png](data:image/png;base64,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)"
   ]
  },
  {
   "cell_type": "markdown",
   "metadata": {
    "id": "GDpzoIE4kE6Z"
   },
   "source": [
    "$X = v_{1} s_{1}{u_{1}}^{T} + v_{2}\\, s_{2}\\, {u_{2}}^{T}$\n",
    "\n",
    "$s_{d} = ||{v_{d}}^{T} A ||$\n",
    "\n",
    "$v_{d} = A^{T}\\: {v_{d}}/{s_{d}}$"
   ]
  },
  {
   "cell_type": "markdown",
   "metadata": {
    "id": "7vFXVcjqc6qD"
   },
   "source": [
    "### Eigen value 1"
   ]
  },
  {
   "cell_type": "code",
   "execution_count": 240,
   "metadata": {
    "colab": {
     "base_uri": "https://localhost:8080/"
    },
    "id": "6iTNBTXmULn3",
    "outputId": "a3ea407a-21bb-44b5-ed5c-499760ee2196"
   },
   "outputs": [
    {
     "name": "stdout",
     "output_type": "stream",
     "text": [
      "(2, 1000)\n",
      "First Eigen value  [[-1.15814752 -0.44233332 -0.13641261 ... -0.82850921 -0.24659102\n",
      "   1.35952893]\n",
      " [ 1.16199645  0.44380334  0.13686595 ...  0.83126263  0.24741053\n",
      "  -1.36404712]] 2\n"
     ]
    }
   ],
   "source": [
    "s1 = np.dot(np.transpose(w_updated), X)\n",
    "s = LA.norm(s1)\n",
    "\n",
    "u1 = w_updated/s\n",
    "u = np.dot(np.transpose(X), u1)\n",
    "\n",
    "eigen_value1 = np.dot(w_updated, np.dot(s, np.transpose(u)))\n",
    "print(eigen_value1.shape)\n",
    "print(\"First Eigen value \", eigen_value1,2)"
   ]
  },
  {
   "cell_type": "code",
   "execution_count": 241,
   "metadata": {
    "colab": {
     "base_uri": "https://localhost:8080/"
    },
    "id": "5X_V45WU2pq3",
    "outputId": "8de9cd3b-1f5e-4531-fb8f-52246e202524"
   },
   "outputs": [
    {
     "name": "stdout",
     "output_type": "stream",
     "text": [
      "(2, 1000)\n",
      "Second Eigen value  [[ 0.35544485  0.59060028 -0.59367391 ...  0.44006899  0.20506758\n",
      "   0.59071041]\n",
      " [ 0.3542675   0.58864401 -0.59170746 ...  0.43861133  0.20438832\n",
      "   0.58875378]]\n"
     ]
    }
   ],
   "source": [
    "eigen_value2 = X - eigen_value1\n",
    "print(eigen_value2.shape)\n",
    "print(\"Second Eigen value \",eigen_value2)"
   ]
  },
  {
   "cell_type": "markdown",
   "metadata": {
    "id": "fszc9-lQdolb"
   },
   "source": [
    "### Second Eigenvector"
   ]
  },
  {
   "cell_type": "code",
   "execution_count": 267,
   "metadata": {
    "colab": {
     "base_uri": "https://localhost:8080/",
     "height": 372
    },
    "id": "DWeBdMjT2uKp",
    "outputId": "547f2194-ce33-47da-83da-a8d4f8ad3708"
   },
   "outputs": [
    {
     "name": "stdout",
     "output_type": "stream",
     "text": [
      "X2 : [[ 0.35544485  0.59060028 -0.59367391 ...  0.44006899  0.20506758\n",
      "   0.59071041]\n",
      " [ 0.3542675   0.58864401 -0.59170746 ...  0.43861133  0.20438832\n",
      "   0.58875378]]\n"
     ]
    },
    {
     "data": {
      "text/plain": [
       "<matplotlib.collections.PathCollection at 0x7f45bc15a1d0>"
      ]
     },
     "execution_count": 267,
     "metadata": {},
     "output_type": "execute_result"
    },
    {
     "data": {
      "text/plain": [
       "<Figure size 720x576 with 0 Axes>"
      ]
     },
     "execution_count": 267,
     "metadata": {},
     "output_type": "execute_result"
    },
    {
     "data": {
      "image/png": "[encoded data removed]",
      "text/plain": [
       "<Figure size 432x288 with 1 Axes>"
      ]
     },
     "metadata": {
      "needs_background": "light"
     },
     "output_type": "display_data"
    },
    {
     "data": {
      "text/plain": [
       "<Figure size 720x576 with 0 Axes>"
      ]
     },
     "metadata": {},
     "output_type": "display_data"
    }
   ],
   "source": [
    "# Creating the new X matrix and plotting it\n",
    "X2 = np.squeeze(np.asarray(eigen_value2))\n",
    "print(\"X2 :\", X2)\n",
    "\n",
    "plt.scatter(X2[0], X2[1])\n",
    "plt.figure(figsize=(10, 8))\n",
    "plt.show()"
   ]
  },
  {
   "cell_type": "code",
   "execution_count": 243,
   "metadata": {
    "colab": {
     "base_uri": "https://localhost:8080/"
    },
    "id": "SzlOQNoX2xh2",
    "outputId": "052960e0-6c52-4495-8f98-4f2c2883ea70"
   },
   "outputs": [
    {
     "name": "stdout",
     "output_type": "stream",
     "text": [
      "[-0.69660534 -1.56547659]\n",
      "[[-0.69660534 -1.56547659]]\n"
     ]
    }
   ],
   "source": [
    "# Initialising the elements of eigenvector\n",
    "\n",
    "rand_sample2 = normal(loc=0, scale=1, size=2)\n",
    "print(rand_sample2)\n",
    "rand_sample2 = np.asmatrix(rand_sample2)\n",
    "print(rand_sample2)"
   ]
  },
  {
   "cell_type": "code",
   "execution_count": 244,
   "metadata": {
    "colab": {
     "base_uri": "https://localhost:8080/"
    },
    "id": "4kL3wYKamPYo",
    "outputId": "ebdb3251-ed26-456f-f2c5-5eca5f49d1fc"
   },
   "outputs": [
    {
     "name": "stdout",
     "output_type": "stream",
     "text": [
      "Normalized eigenvetor : [[-0.40654681 -0.91362996]]\n",
      "(1, 2)\n",
      "(2, 1)\n",
      "L2 norm of eigenvector : 1.0\n"
     ]
    }
   ],
   "source": [
    "# Normalizing the eigenvector\n",
    "\n",
    "norm2 = np.linalg.norm(rand_sample2)\n",
    "eigen_vec2 = rand_sample2/norm2\n",
    "print(\"Normalized eigenvetor :\", eigen_vec2)\n",
    "print(eigen_vec2.shape)\n",
    "eigen_vec2.shape = (2,1)\n",
    "print(eigen_vec2.shape)\n",
    "print(\"L2 norm of eigenvector :\",LA.norm(eigen_vec2))"
   ]
  },
  {
   "cell_type": "code",
   "execution_count": 245,
   "metadata": {
    "colab": {
     "base_uri": "https://localhost:8080/"
    },
    "id": "j8Na_umV22qK",
    "outputId": "e6306f62-9217-4416-e913-869e5e92945c"
   },
   "outputs": [
    {
     "data": {
      "text/plain": [
       "matrix([[-0.40654681, -0.91362996]])"
      ]
     },
     "execution_count": 245,
     "metadata": {},
     "output_type": "execute_result"
    }
   ],
   "source": [
    "# Transpose of eigenvector\n",
    "\n",
    "eigen_vec_trans2 = np.transpose(eigen_vec2)\n",
    "eigen_vec_trans2"
   ]
  },
  {
   "cell_type": "code",
   "execution_count": 246,
   "metadata": {
    "colab": {
     "base_uri": "https://localhost:8080/"
    },
    "id": "fuTtNZzRb0Om",
    "outputId": "287771b5-b9ef-4046-a7f7-6c55ea8c78ad"
   },
   "outputs": [
    {
     "data": {
      "text/plain": [
       "matrix([[145.67806369, 145.19552852],\n",
       "        [145.19552852, 144.71459168]])"
      ]
     },
     "execution_count": 246,
     "metadata": {},
     "output_type": "execute_result"
    }
   ],
   "source": [
    "alpha = 0.01\n",
    "w_updated2 = eigen_vec2\n",
    "\n",
    "X_mat2 = np.dot(eigen_value2,np.transpose(eigen_value2))\n",
    "X_mat2"
   ]
  },
  {
   "cell_type": "code",
   "execution_count": 247,
   "metadata": {
    "colab": {
     "base_uri": "https://localhost:8080/"
    },
    "id": "Jyrp3QePmwQZ",
    "outputId": "44f28d08-5d4d-45b4-80df-12434d820720"
   },
   "outputs": [
    {
     "name": "stdout",
     "output_type": "stream",
     "text": [
      "Updated eigenvector : [[-0.70827884]\n",
      " [-0.70593278]]\n"
     ]
    }
   ],
   "source": [
    "# Parameter updation\n",
    "\n",
    "for i in range(500):\n",
    "  lambda_der2 = 2*np.dot(X_mat2, w_updated2)\n",
    "  change2 = alpha*lambda_der2\n",
    "  w_updated2 += change2\n",
    "  # Normalizing the eigenvector\n",
    "  norm2 = np.linalg.norm(w_updated2)\n",
    "  w_updated2 = w_updated2/norm2\n",
    "\n",
    "print(\"Updated eigenvector :\", w_updated2)"
   ]
  },
  {
   "cell_type": "code",
   "execution_count": 248,
   "metadata": {
    "colab": {
     "base_uri": "https://localhost:8080/"
    },
    "id": "DQvxI3HZ284A",
    "outputId": "1848b2d5-10c7-4c37-e512-62789dc76e58"
   },
   "outputs": [
    {
     "name": "stdout",
     "output_type": "stream",
     "text": [
      "First updated Eigenvector : [ 0.70593278 -0.70827884]\n",
      "Second updated Eigenvector : [-0.70827884 -0.70593278]\n"
     ]
    }
   ],
   "source": [
    "w_updated = np.squeeze(np.asarray(w_updated))\n",
    "print(\"First updated Eigenvector :\", w_updated)\n",
    "\n",
    "w_updated2 = np.squeeze(np.asarray(w_updated2))\n",
    "print(\"Second updated Eigenvector :\", w_updated2)"
   ]
  },
  {
   "cell_type": "code",
   "execution_count": 264,
   "metadata": {
    "colab": {
     "base_uri": "https://localhost:8080/",
     "height": 518
    },
    "id": "8WgPgMoSjLzX",
    "outputId": "936947c8-7bc7-4cd7-8763-a0046b2e5e63"
   },
   "outputs": [
    {
     "data": {
      "text/plain": [
       "<Figure size 720x576 with 0 Axes>"
      ]
     },
     "execution_count": 264,
     "metadata": {},
     "output_type": "execute_result"
    },
    {
     "data": {
      "text/plain": [
       "<matplotlib.collections.PathCollection at 0x7f45bc245510>"
      ]
     },
     "execution_count": 264,
     "metadata": {},
     "output_type": "execute_result"
    },
    {
     "data": {
      "text/plain": [
       "<matplotlib.patches.FancyArrow at 0x7f45bc1b5190>"
      ]
     },
     "execution_count": 264,
     "metadata": {},
     "output_type": "execute_result"
    },
    {
     "data": {
      "text/plain": [
       "<matplotlib.patches.FancyArrow at 0x7f45bc1f2350>"
      ]
     },
     "execution_count": 264,
     "metadata": {},
     "output_type": "execute_result"
    },
    {
     "data": {
      "image/png": "[encoded data removed]",
      "text/plain": [
       "<Figure size 720x576 with 1 Axes>"
      ]
     },
     "metadata": {
      "needs_background": "light"
     },
     "output_type": "display_data"
    }
   ],
   "source": [
    "# Plotting the distribution with eigen vectors\n",
    "\n",
    "X = mat['X']\n",
    "plt.figure(figsize=(10, 8))\n",
    "plt.scatter(X[0], X[1])\n",
    "plt.arrow(0,0, w_updated[0], w_updated[1], head_width = 0.1, width = 0.02)\n",
    "plt.arrow(0,0, w_updated2[0], w_updated2[1], head_width = 0.1, width = 0.02)"
   ]
  },
  {
   "cell_type": "code",
   "execution_count": null,
   "metadata": {
    "id": "VKVR6ix7ASTk"
   },
   "outputs": [],
   "source": []
  }
 ],
 "metadata": {
  "colab": {
   "collapsed_sections": [],
   "name": "MLSP_HW1.ipynb",
   "provenance": [],
   "toc_visible": true
  },
  "kernelspec": {
   "display_name": "Python 3",
   "language": "python",
   "name": "python3"
  },
  "language_info": {
   "codemirror_mode": {
    "name": "ipython",
    "version": 3
   },
   "file_extension": ".py",
   "mimetype": "text/x-python",
   "name": "python",
   "nbconvert_exporter": "python",
   "pygments_lexer": "ipython3",
   "version": "3.8.8"
  }
 },
 "nbformat": 4,
 "nbformat_minor": 1
}
